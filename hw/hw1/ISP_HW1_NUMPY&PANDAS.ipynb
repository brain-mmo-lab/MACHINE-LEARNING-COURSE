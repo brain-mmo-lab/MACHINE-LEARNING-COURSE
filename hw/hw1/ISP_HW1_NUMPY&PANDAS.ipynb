{
 "cells": [
  {
   "cell_type": "markdown",
   "metadata": {
    "id": "OkS2V3gkhAcv"
   },
   "source": [
    "# Домашнее задание №1. Pandas. numpy. Обработка данных.\n",
    "\n",
    "## Ф.И.О: _________\n",
    "\n",
    "Домашнее задание состоит из **2**-х частей: \n",
    "- **Первая часть** посвящена эффективной реализации функций подсчета расстояния с использованием библиотеки _numpy_.\n",
    "- **Вторая часть** предполагает заполнение предложенного блокнота.\n",
    "\n",
    "### Часть 0.\n",
    "- Вписать Ваши ФИО в предложенное поле.\n",
    "\n",
    "\n",
    "### Часть 1. (5 баллов)\n",
    "- реализуйте функции для вычисления расстояния из модуля ``tasks`` с использованием _numpy_\n",
    "- запрещается использовать циклы и конструкцию list comprehension\n",
    "- запрещается использовать сторонние библиотеки(за исключением _numpy_)\n",
    "- для проверки можете использовать предложенные unit-тесты\n",
    "   - чтобы запустить их в консоли выполните:\n",
    "      ``$ python -m unittest``\n",
    "\n",
    "### Часть 2. (15 баллов)\n",
    "- заполните предложенный блокнот кодом и ответами на вопросы, где это требуется\n",
    "\n",
    "----------------------------------------\n",
    "\n",
    "**На проверку требуется отправить zip архив, который будет содержать следующие файлы:**\n",
    " - модуль ``tasks.py`` с реализованными функциями\n",
    " - заполненный блокнот в формате ``.ipybn``\n",
    " - заполненный блокнот в формате ``.html`` **(File -> Save and Export Notebook As -> HTML -> ...)**\n",
    " - файл ``answer.csv``, который получится в результате работы над блокнотом"
   ]
  },
  {
   "cell_type": "markdown",
   "metadata": {},
   "source": [
    "### Часть 2. (15 points)\n",
    "\n",
    "----------------------------\n",
    "\n",
    "#### __1__. (2 points)\n",
    "\n",
    "__1.1__. Импортируйте все необходимые библиотеки."
   ]
  },
  {
   "cell_type": "code",
   "execution_count": 7,
   "metadata": {
    "id": "4kZATXeShAcx"
   },
   "outputs": [],
   "source": [
    "import pandas as pd\n",
    "import numpy as np\n",
    "\n",
    "pd.set_option('display.max_columns', 100)\n",
    "pd.set_option('display.precision', 3)\n",
    "\n",
    "import matplotlib.pyplot as plt\n",
    "import seaborn as sns\n",
    "\n",
    "%matplotlib inline"
   ]
  },
  {
   "cell_type": "markdown",
   "metadata": {
    "id": "urkfp5hKhAcy"
   },
   "source": [
    "__1.2__. Загрузите файл `train.csv` и сохраните его в переменную `df`. Выведите первые 10 строчек таблицы."
   ]
  },
  {
   "cell_type": "code",
   "execution_count": null,
   "metadata": {
    "id": "LR0DVA1VhAcz",
    "outputId": "82f3ec19-5217-4a0d-b137-acd0b919c8b8"
   },
   "outputs": [
    {
     "data": {
      "text/html": [
       "<div>\n",
       "<style scoped>\n",
       "    .dataframe tbody tr th:only-of-type {\n",
       "        vertical-align: middle;\n",
       "    }\n",
       "\n",
       "    .dataframe tbody tr th {\n",
       "        vertical-align: top;\n",
       "    }\n",
       "\n",
       "    .dataframe thead th {\n",
       "        text-align: right;\n",
       "    }\n",
       "</style>\n",
       "<table border=\"1\" class=\"dataframe\">\n",
       "  <thead>\n",
       "    <tr style=\"text-align: right;\">\n",
       "      <th></th>\n",
       "      <th>PERIOD</th>\n",
       "      <th>cl_id</th>\n",
       "      <th>MCC</th>\n",
       "      <th>channel_type</th>\n",
       "      <th>currency</th>\n",
       "      <th>TRDATETIME</th>\n",
       "      <th>amount</th>\n",
       "      <th>trx_category</th>\n",
       "      <th>target_flag</th>\n",
       "      <th>target_sum</th>\n",
       "    </tr>\n",
       "  </thead>\n",
       "  <tbody>\n",
       "    <tr>\n",
       "      <th>0</th>\n",
       "      <td>01/10/2017</td>\n",
       "      <td>0</td>\n",
       "      <td>5200</td>\n",
       "      <td>NaN</td>\n",
       "      <td>810</td>\n",
       "      <td>21OCT17:00:00:00</td>\n",
       "      <td>5023.0</td>\n",
       "      <td>POS</td>\n",
       "      <td>0</td>\n",
       "      <td>0.0</td>\n",
       "    </tr>\n",
       "    <tr>\n",
       "      <th>1</th>\n",
       "      <td>01/10/2017</td>\n",
       "      <td>0</td>\n",
       "      <td>6011</td>\n",
       "      <td>NaN</td>\n",
       "      <td>810</td>\n",
       "      <td>12OCT17:12:24:07</td>\n",
       "      <td>20000.0</td>\n",
       "      <td>DEPOSIT</td>\n",
       "      <td>0</td>\n",
       "      <td>0.0</td>\n",
       "    </tr>\n",
       "    <tr>\n",
       "      <th>2</th>\n",
       "      <td>01/12/2017</td>\n",
       "      <td>0</td>\n",
       "      <td>5921</td>\n",
       "      <td>NaN</td>\n",
       "      <td>810</td>\n",
       "      <td>05DEC17:00:00:00</td>\n",
       "      <td>767.0</td>\n",
       "      <td>POS</td>\n",
       "      <td>0</td>\n",
       "      <td>0.0</td>\n",
       "    </tr>\n",
       "    <tr>\n",
       "      <th>3</th>\n",
       "      <td>01/10/2017</td>\n",
       "      <td>0</td>\n",
       "      <td>5411</td>\n",
       "      <td>NaN</td>\n",
       "      <td>810</td>\n",
       "      <td>21OCT17:00:00:00</td>\n",
       "      <td>2031.0</td>\n",
       "      <td>POS</td>\n",
       "      <td>0</td>\n",
       "      <td>0.0</td>\n",
       "    </tr>\n",
       "    <tr>\n",
       "      <th>4</th>\n",
       "      <td>01/10/2017</td>\n",
       "      <td>0</td>\n",
       "      <td>6012</td>\n",
       "      <td>NaN</td>\n",
       "      <td>810</td>\n",
       "      <td>24OCT17:13:14:24</td>\n",
       "      <td>36562.0</td>\n",
       "      <td>C2C_OUT</td>\n",
       "      <td>0</td>\n",
       "      <td>0.0</td>\n",
       "    </tr>\n",
       "    <tr>\n",
       "      <th>5</th>\n",
       "      <td>01/10/2017</td>\n",
       "      <td>1</td>\n",
       "      <td>5814</td>\n",
       "      <td>NaN</td>\n",
       "      <td>810</td>\n",
       "      <td>16OCT17:00:00:00</td>\n",
       "      <td>380.0</td>\n",
       "      <td>POS</td>\n",
       "      <td>0</td>\n",
       "      <td>0.0</td>\n",
       "    </tr>\n",
       "    <tr>\n",
       "      <th>6</th>\n",
       "      <td>01/10/2017</td>\n",
       "      <td>1</td>\n",
       "      <td>5814</td>\n",
       "      <td>NaN</td>\n",
       "      <td>810</td>\n",
       "      <td>10OCT17:00:00:00</td>\n",
       "      <td>378.0</td>\n",
       "      <td>POS</td>\n",
       "      <td>0</td>\n",
       "      <td>0.0</td>\n",
       "    </tr>\n",
       "    <tr>\n",
       "      <th>7</th>\n",
       "      <td>01/10/2017</td>\n",
       "      <td>1</td>\n",
       "      <td>5814</td>\n",
       "      <td>NaN</td>\n",
       "      <td>810</td>\n",
       "      <td>16OCT17:00:00:00</td>\n",
       "      <td>199.0</td>\n",
       "      <td>POS</td>\n",
       "      <td>0</td>\n",
       "      <td>0.0</td>\n",
       "    </tr>\n",
       "    <tr>\n",
       "      <th>8</th>\n",
       "      <td>01/10/2017</td>\n",
       "      <td>1</td>\n",
       "      <td>5814</td>\n",
       "      <td>NaN</td>\n",
       "      <td>810</td>\n",
       "      <td>11OCT17:00:00:00</td>\n",
       "      <td>400.0</td>\n",
       "      <td>POS</td>\n",
       "      <td>0</td>\n",
       "      <td>0.0</td>\n",
       "    </tr>\n",
       "    <tr>\n",
       "      <th>9</th>\n",
       "      <td>01/07/2017</td>\n",
       "      <td>1</td>\n",
       "      <td>5411</td>\n",
       "      <td>NaN</td>\n",
       "      <td>810</td>\n",
       "      <td>26JUL17:00:00:00</td>\n",
       "      <td>598.0</td>\n",
       "      <td>POS</td>\n",
       "      <td>0</td>\n",
       "      <td>0.0</td>\n",
       "    </tr>\n",
       "  </tbody>\n",
       "</table>\n",
       "</div>"
      ],
      "text/plain": [
       "       PERIOD  cl_id   MCC channel_type  currency        TRDATETIME   amount  \\\n",
       "0  01/10/2017      0  5200          NaN       810  21OCT17:00:00:00   5023.0   \n",
       "1  01/10/2017      0  6011          NaN       810  12OCT17:12:24:07  20000.0   \n",
       "2  01/12/2017      0  5921          NaN       810  05DEC17:00:00:00    767.0   \n",
       "3  01/10/2017      0  5411          NaN       810  21OCT17:00:00:00   2031.0   \n",
       "4  01/10/2017      0  6012          NaN       810  24OCT17:13:14:24  36562.0   \n",
       "5  01/10/2017      1  5814          NaN       810  16OCT17:00:00:00    380.0   \n",
       "6  01/10/2017      1  5814          NaN       810  10OCT17:00:00:00    378.0   \n",
       "7  01/10/2017      1  5814          NaN       810  16OCT17:00:00:00    199.0   \n",
       "8  01/10/2017      1  5814          NaN       810  11OCT17:00:00:00    400.0   \n",
       "9  01/07/2017      1  5411          NaN       810  26JUL17:00:00:00    598.0   \n",
       "\n",
       "  trx_category  target_flag  target_sum  \n",
       "0          POS            0         0.0  \n",
       "1      DEPOSIT            0         0.0  \n",
       "2          POS            0         0.0  \n",
       "3          POS            0         0.0  \n",
       "4      C2C_OUT            0         0.0  \n",
       "5          POS            0         0.0  \n",
       "6          POS            0         0.0  \n",
       "7          POS            0         0.0  \n",
       "8          POS            0         0.0  \n",
       "9          POS            0         0.0  "
      ]
     },
     "execution_count": 2,
     "metadata": {},
     "output_type": "execute_result"
    }
   ],
   "source": [
    "#############################\n",
    "### ╰( ͡° ͜ʖ ͡° )つ──────☆*:・ﾟ\n",
    "#############################"
   ]
  },
  {
   "cell_type": "code",
   "execution_count": null,
   "metadata": {
    "id": "5-NlDZWihAc0"
   },
   "outputs": [],
   "source": [
    "np.random.seed(9564)\n",
    "index = np.random.choice(len(df), replace=False, size=1000)"
   ]
  },
  {
   "cell_type": "markdown",
   "metadata": {
    "id": "yuLRP9aBhAc0"
   },
   "source": [
    "__1.3__.1. Выведите размер получившейся таблицы. "
   ]
  },
  {
   "cell_type": "code",
   "execution_count": 5,
   "metadata": {
    "id": "ziB7qOlkhAc1"
   },
   "outputs": [
    {
     "name": "stdout",
     "output_type": "stream",
     "text": [
      "Размер таблицы: ╰( ͡° ͜ʖ ͡° )つ──────☆*:・ﾟ\n"
     ]
    }
   ],
   "source": [
    "#############################\n",
    "### ╰( ͡° ͜ʖ ͡° )つ──────☆*:・ﾟ\n",
    "#############################\n",
    "\n",
    "table_size = \"╰( ͡° ͜ʖ ͡° )つ──────☆*:・ﾟ\"\n",
    "print(f\"Размер таблицы: {table_size}\")"
   ]
  },
  {
   "cell_type": "markdown",
   "metadata": {},
   "source": [
    "__1.3__.2. Выведите статистики (среднее, дисперссию, кванти́ли, количество значений и т.п.) по каждому из столбцов. Воспользуйтесь специальным методом у `df`."
   ]
  },
  {
   "cell_type": "code",
   "execution_count": null,
   "metadata": {
    "id": "SWbHqPq8hAc2",
    "outputId": "97fc4fc8-97a2-485c-d603-0a0e8a6e2333"
   },
   "outputs": [
    {
     "data": {
      "text/html": [
       "<div>\n",
       "<style scoped>\n",
       "    .dataframe tbody tr th:only-of-type {\n",
       "        vertical-align: middle;\n",
       "    }\n",
       "\n",
       "    .dataframe tbody tr th {\n",
       "        vertical-align: top;\n",
       "    }\n",
       "\n",
       "    .dataframe thead th {\n",
       "        text-align: right;\n",
       "    }\n",
       "</style>\n",
       "<table border=\"1\" class=\"dataframe\">\n",
       "  <thead>\n",
       "    <tr style=\"text-align: right;\">\n",
       "      <th></th>\n",
       "      <th>cl_id</th>\n",
       "      <th>MCC</th>\n",
       "      <th>currency</th>\n",
       "      <th>amount</th>\n",
       "      <th>target_flag</th>\n",
       "      <th>target_sum</th>\n",
       "    </tr>\n",
       "  </thead>\n",
       "  <tbody>\n",
       "    <tr>\n",
       "      <th>count</th>\n",
       "      <td>490513.000</td>\n",
       "      <td>490513.000</td>\n",
       "      <td>490513.000</td>\n",
       "      <td>4.905e+05</td>\n",
       "      <td>490513.000</td>\n",
       "      <td>4.905e+05</td>\n",
       "    </tr>\n",
       "    <tr>\n",
       "      <th>mean</th>\n",
       "      <td>4802.127</td>\n",
       "      <td>5699.784</td>\n",
       "      <td>810.602</td>\n",
       "      <td>5.724e+03</td>\n",
       "      <td>0.653</td>\n",
       "      <td>1.627e+05</td>\n",
       "    </tr>\n",
       "    <tr>\n",
       "      <th>std</th>\n",
       "      <td>2986.493</td>\n",
       "      <td>662.933</td>\n",
       "      <td>38.223</td>\n",
       "      <td>7.704e+04</td>\n",
       "      <td>0.476</td>\n",
       "      <td>1.474e+06</td>\n",
       "    </tr>\n",
       "    <tr>\n",
       "      <th>min</th>\n",
       "      <td>0.000</td>\n",
       "      <td>742.000</td>\n",
       "      <td>32.000</td>\n",
       "      <td>4.000e-02</td>\n",
       "      <td>0.000</td>\n",
       "      <td>0.000e+00</td>\n",
       "    </tr>\n",
       "    <tr>\n",
       "      <th>25%</th>\n",
       "      <td>2193.000</td>\n",
       "      <td>5411.000</td>\n",
       "      <td>810.000</td>\n",
       "      <td>2.240e+02</td>\n",
       "      <td>0.000</td>\n",
       "      <td>0.000e+00</td>\n",
       "    </tr>\n",
       "    <tr>\n",
       "      <th>50%</th>\n",
       "      <td>4576.000</td>\n",
       "      <td>5661.000</td>\n",
       "      <td>810.000</td>\n",
       "      <td>6.240e+02</td>\n",
       "      <td>1.000</td>\n",
       "      <td>2.491e+04</td>\n",
       "    </tr>\n",
       "    <tr>\n",
       "      <th>75%</th>\n",
       "      <td>7390.000</td>\n",
       "      <td>5941.000</td>\n",
       "      <td>810.000</td>\n",
       "      <td>2.176e+03</td>\n",
       "      <td>1.000</td>\n",
       "      <td>1.516e+05</td>\n",
       "    </tr>\n",
       "    <tr>\n",
       "      <th>max</th>\n",
       "      <td>10215.000</td>\n",
       "      <td>9405.000</td>\n",
       "      <td>986.000</td>\n",
       "      <td>3.584e+07</td>\n",
       "      <td>1.000</td>\n",
       "      <td>4.607e+07</td>\n",
       "    </tr>\n",
       "  </tbody>\n",
       "</table>\n",
       "</div>"
      ],
      "text/plain": [
       "            cl_id         MCC    currency     amount  target_flag  target_sum\n",
       "count  490513.000  490513.000  490513.000  4.905e+05   490513.000   4.905e+05\n",
       "mean     4802.127    5699.784     810.602  5.724e+03        0.653   1.627e+05\n",
       "std      2986.493     662.933      38.223  7.704e+04        0.476   1.474e+06\n",
       "min         0.000     742.000      32.000  4.000e-02        0.000   0.000e+00\n",
       "25%      2193.000    5411.000     810.000  2.240e+02        0.000   0.000e+00\n",
       "50%      4576.000    5661.000     810.000  6.240e+02        1.000   2.491e+04\n",
       "75%      7390.000    5941.000     810.000  2.176e+03        1.000   1.516e+05\n",
       "max     10215.000    9405.000     986.000  3.584e+07        1.000   4.607e+07"
      ]
     },
     "execution_count": 5,
     "metadata": {},
     "output_type": "execute_result"
    }
   ],
   "source": [
    "#############################\n",
    "### ╰( ͡° ͜ʖ ͡° )つ──────☆*:・ﾟ\n",
    "#############################"
   ]
  },
  {
   "cell_type": "markdown",
   "metadata": {
    "id": "vuij9V8fhAc2"
   },
   "source": [
    "Опиание столбцов:\n",
    "* PERIOD – месяц транзакции;\n",
    "* cl_id – id клиента;\n",
    "* MCC – код категории продавца;\n",
    "* channel_type – канал привлечения клиента;\n",
    "* currency – валюта;\n",
    "* TRDATETIME – дата/время транзакции;\n",
    "* amount – сумма транзакции;\n",
    "* trx_category – вид транзакции.\n",
    "\n",
    "Виды транзакций:\n",
    "* POS – оплата через POS терминал;\n",
    "* C2C_IN – перевод на карту (входящий платёж);\n",
    "* C2C_OUT – перевод на карту (исходящий платёж);\n",
    "* DEPOSIT – пополнение карты в банкомате;\n",
    "* WD_ATM_PARTNER – снятие наличных в банкоматах партнерах банка *UNKNOWN*;\n",
    "* WD_ATM_ROS – снятие наличных в банкоматах банка *UNKNOWN*;\n",
    "* WD_ATM_OTHER – снятия в других банкоматах;\n",
    "* BACK_TRX – возврат средств при возврате покупки;\n",
    "* CAT – операции в банкоматах;\n",
    "* CASH_ADV – снятие карты в кассе банка."
   ]
  },
  {
   "cell_type": "markdown",
   "metadata": {
    "id": "geCHpMIthAc2"
   },
   "source": [
    "__1.4__. Какие столбцы имеют пропущенные значения? Сколько пропущенных значений?"
   ]
  },
  {
   "cell_type": "code",
   "execution_count": null,
   "metadata": {
    "id": "sBhudfVghAc3"
   },
   "outputs": [],
   "source": [
    "#############################\n",
    "### ╰( ͡° ͜ʖ ͡° )つ──────☆*:・ﾟ\n",
    "#############################"
   ]
  },
  {
   "cell_type": "markdown",
   "metadata": {
    "id": "HABK1RrLhAc3"
   },
   "source": [
    "__1.5__. Какие уникальные значения существуют у столбца `currency`?"
   ]
  },
  {
   "cell_type": "code",
   "execution_count": null,
   "metadata": {
    "id": "J8EMs0u9hAc3"
   },
   "outputs": [],
   "source": [
    "#############################\n",
    "### ╰( ͡° ͜ʖ ͡° )つ──────☆*:・ﾟ\n",
    "#############################"
   ]
  },
  {
   "cell_type": "markdown",
   "metadata": {
    "id": "gFAOatpchAc4"
   },
   "source": [
    "__1.6__. Заполните пропуски в столбце `channel_type` значением `type0`. Результат должен сохраниться в переменной `df`."
   ]
  },
  {
   "cell_type": "code",
   "execution_count": null,
   "metadata": {
    "id": "tecu4jlMhAc5"
   },
   "outputs": [],
   "source": [
    "#############################\n",
    "### ╰( ͡° ͜ʖ ͡° )つ──────☆*:・ﾟ\n",
    "#############################"
   ]
  },
  {
   "cell_type": "code",
   "execution_count": null,
   "metadata": {
    "id": "lLs6ccGmhAc5",
    "outputId": "32ee6bfe-6fad-4bcf-8105-7c8f2fceaf1b"
   },
   "outputs": [
    {
     "data": {
      "text/html": [
       "<div>\n",
       "<style scoped>\n",
       "    .dataframe tbody tr th:only-of-type {\n",
       "        vertical-align: middle;\n",
       "    }\n",
       "\n",
       "    .dataframe tbody tr th {\n",
       "        vertical-align: top;\n",
       "    }\n",
       "\n",
       "    .dataframe thead th {\n",
       "        text-align: right;\n",
       "    }\n",
       "</style>\n",
       "<table border=\"1\" class=\"dataframe\">\n",
       "  <thead>\n",
       "    <tr style=\"text-align: right;\">\n",
       "      <th></th>\n",
       "      <th>PERIOD</th>\n",
       "      <th>cl_id</th>\n",
       "      <th>MCC</th>\n",
       "      <th>channel_type</th>\n",
       "      <th>currency</th>\n",
       "      <th>TRDATETIME</th>\n",
       "      <th>amount</th>\n",
       "      <th>trx_category</th>\n",
       "      <th>target_flag</th>\n",
       "      <th>target_sum</th>\n",
       "    </tr>\n",
       "  </thead>\n",
       "  <tbody>\n",
       "    <tr>\n",
       "      <th>0</th>\n",
       "      <td>01/10/2017</td>\n",
       "      <td>0</td>\n",
       "      <td>5200</td>\n",
       "      <td>type0</td>\n",
       "      <td>810</td>\n",
       "      <td>21OCT17:00:00:00</td>\n",
       "      <td>5023.0</td>\n",
       "      <td>POS</td>\n",
       "      <td>0</td>\n",
       "      <td>0.0</td>\n",
       "    </tr>\n",
       "    <tr>\n",
       "      <th>1</th>\n",
       "      <td>01/10/2017</td>\n",
       "      <td>0</td>\n",
       "      <td>6011</td>\n",
       "      <td>type0</td>\n",
       "      <td>810</td>\n",
       "      <td>12OCT17:12:24:07</td>\n",
       "      <td>20000.0</td>\n",
       "      <td>DEPOSIT</td>\n",
       "      <td>0</td>\n",
       "      <td>0.0</td>\n",
       "    </tr>\n",
       "    <tr>\n",
       "      <th>2</th>\n",
       "      <td>01/12/2017</td>\n",
       "      <td>0</td>\n",
       "      <td>5921</td>\n",
       "      <td>type0</td>\n",
       "      <td>810</td>\n",
       "      <td>05DEC17:00:00:00</td>\n",
       "      <td>767.0</td>\n",
       "      <td>POS</td>\n",
       "      <td>0</td>\n",
       "      <td>0.0</td>\n",
       "    </tr>\n",
       "    <tr>\n",
       "      <th>3</th>\n",
       "      <td>01/10/2017</td>\n",
       "      <td>0</td>\n",
       "      <td>5411</td>\n",
       "      <td>type0</td>\n",
       "      <td>810</td>\n",
       "      <td>21OCT17:00:00:00</td>\n",
       "      <td>2031.0</td>\n",
       "      <td>POS</td>\n",
       "      <td>0</td>\n",
       "      <td>0.0</td>\n",
       "    </tr>\n",
       "    <tr>\n",
       "      <th>4</th>\n",
       "      <td>01/10/2017</td>\n",
       "      <td>0</td>\n",
       "      <td>6012</td>\n",
       "      <td>type0</td>\n",
       "      <td>810</td>\n",
       "      <td>24OCT17:13:14:24</td>\n",
       "      <td>36562.0</td>\n",
       "      <td>C2C_OUT</td>\n",
       "      <td>0</td>\n",
       "      <td>0.0</td>\n",
       "    </tr>\n",
       "  </tbody>\n",
       "</table>\n",
       "</div>"
      ],
      "text/plain": [
       "       PERIOD  cl_id   MCC channel_type  currency        TRDATETIME   amount  \\\n",
       "0  01/10/2017      0  5200        type0       810  21OCT17:00:00:00   5023.0   \n",
       "1  01/10/2017      0  6011        type0       810  12OCT17:12:24:07  20000.0   \n",
       "2  01/12/2017      0  5921        type0       810  05DEC17:00:00:00    767.0   \n",
       "3  01/10/2017      0  5411        type0       810  21OCT17:00:00:00   2031.0   \n",
       "4  01/10/2017      0  6012        type0       810  24OCT17:13:14:24  36562.0   \n",
       "\n",
       "  trx_category  target_flag  target_sum  \n",
       "0          POS            0         0.0  \n",
       "1      DEPOSIT            0         0.0  \n",
       "2          POS            0         0.0  \n",
       "3          POS            0         0.0  \n",
       "4      C2C_OUT            0         0.0  "
      ]
     },
     "execution_count": 9,
     "metadata": {},
     "output_type": "execute_result"
    }
   ],
   "source": [
    "df.head()"
   ]
  },
  {
   "cell_type": "markdown",
   "metadata": {
    "id": "VK1T7zm3hAc5"
   },
   "source": [
    "__1.7__. Посчитайте, сколько записей приходится на каждое уникальное значение столбца `channel_type`."
   ]
  },
  {
   "cell_type": "code",
   "execution_count": null,
   "metadata": {
    "id": "kQT33ahLhAc5"
   },
   "outputs": [],
   "source": [
    "#############################\n",
    "### ╰( ͡° ͜ʖ ͡° )つ──────☆*:・ﾟ\n",
    "#############################"
   ]
  },
  {
   "cell_type": "markdown",
   "metadata": {
    "id": "jPPDaYwQhAc6"
   },
   "source": [
    "__1.8__. Найдите топ-3 `MCC` категорий с наибольшим объемом трат."
   ]
  },
  {
   "cell_type": "code",
   "execution_count": null,
   "metadata": {
    "id": "Z_3D7uazhAc6"
   },
   "outputs": [],
   "source": [
    "#############################\n",
    "### ╰( ͡° ͜ʖ ͡° )つ──────☆*:・ﾟ\n",
    "#############################"
   ]
  },
  {
   "cell_type": "markdown",
   "metadata": {
    "id": "HL2HfnXdhAc6"
   },
   "source": [
    "----------------------------------\n",
    "\n",
    "#### __2__. (1 point)\n",
    "\n",
    "__2.1__. Сделайте значения в столбцах `channel_type` и `trx_category` категориальными."
   ]
  },
  {
   "cell_type": "code",
   "execution_count": null,
   "metadata": {
    "id": "B3CZSpdHhAc7"
   },
   "outputs": [],
   "source": [
    "#############################\n",
    "### ╰( ͡° ͜ʖ ͡° )つ──────☆*:・ﾟ\n",
    "#############################"
   ]
  },
  {
   "cell_type": "markdown",
   "metadata": {
    "id": "1O4l-LLqhAc7"
   },
   "source": [
    "__2.2__. Сделайте столбец `trx_category_mul`, которая показывает увеличение (значение в столбце равно +1) и уменьшение средств (значение в столбце равно -1) на счете клиента банка. Операции, которые увеличивают количество средств на счете:\n",
    "`C2C_IN`, `DEPOSIT`, `BACK_TRX`. Считайте, что остальные операции уменьшают количество средств на счете."
   ]
  },
  {
   "cell_type": "code",
   "execution_count": null,
   "metadata": {
    "id": "Y-D2bO-rhAc7"
   },
   "outputs": [],
   "source": [
    "#############################\n",
    "### ╰( ͡° ͜ʖ ͡° )つ──────☆*:・ﾟ\n",
    "#############################"
   ]
  },
  {
   "cell_type": "code",
   "execution_count": null,
   "metadata": {
    "id": "W8WR5T30hAc7",
    "outputId": "fb743437-abe2-45d6-fd14-dd363c58252c"
   },
   "outputs": [
    {
     "data": {
      "text/html": [
       "<div>\n",
       "<style scoped>\n",
       "    .dataframe tbody tr th:only-of-type {\n",
       "        vertical-align: middle;\n",
       "    }\n",
       "\n",
       "    .dataframe tbody tr th {\n",
       "        vertical-align: top;\n",
       "    }\n",
       "\n",
       "    .dataframe thead th {\n",
       "        text-align: right;\n",
       "    }\n",
       "</style>\n",
       "<table border=\"1\" class=\"dataframe\">\n",
       "  <thead>\n",
       "    <tr style=\"text-align: right;\">\n",
       "      <th></th>\n",
       "      <th>trx_category_mul</th>\n",
       "      <th>trx_category</th>\n",
       "    </tr>\n",
       "  </thead>\n",
       "  <tbody>\n",
       "    <tr>\n",
       "      <th>0</th>\n",
       "      <td>-1</td>\n",
       "      <td>POS</td>\n",
       "    </tr>\n",
       "    <tr>\n",
       "      <th>1</th>\n",
       "      <td>1</td>\n",
       "      <td>DEPOSIT</td>\n",
       "    </tr>\n",
       "    <tr>\n",
       "      <th>2</th>\n",
       "      <td>-1</td>\n",
       "      <td>POS</td>\n",
       "    </tr>\n",
       "    <tr>\n",
       "      <th>3</th>\n",
       "      <td>-1</td>\n",
       "      <td>POS</td>\n",
       "    </tr>\n",
       "    <tr>\n",
       "      <th>4</th>\n",
       "      <td>-1</td>\n",
       "      <td>C2C_OUT</td>\n",
       "    </tr>\n",
       "  </tbody>\n",
       "</table>\n",
       "</div>"
      ],
      "text/plain": [
       "   trx_category_mul trx_category\n",
       "0                -1          POS\n",
       "1                 1      DEPOSIT\n",
       "2                -1          POS\n",
       "3                -1          POS\n",
       "4                -1      C2C_OUT"
      ]
     },
     "execution_count": 14,
     "metadata": {},
     "output_type": "execute_result"
    }
   ],
   "source": [
    "df.loc[:, ['trx_category_mul', 'trx_category']].head()"
   ]
  },
  {
   "cell_type": "markdown",
   "metadata": {
    "id": "fLsH3qU6hAc7"
   },
   "source": [
    "-------------------------------------------------\n",
    "\n",
    "#### __3__. (1 point)\n",
    "\n",
    "__3.0__. Приведем столбец `TRDATETIME` к типу даты."
   ]
  },
  {
   "cell_type": "code",
   "execution_count": null,
   "metadata": {
    "id": "agSoEZ_0hAc8"
   },
   "outputs": [],
   "source": [
    "from datetime import datetime\n",
    "\n",
    "df[\"TRDATETIME\"] = pd.to_datetime(df[\"TRDATETIME\"], format='%d%b%y:%H:%M:%S')"
   ]
  },
  {
   "cell_type": "markdown",
   "metadata": {
    "id": "URCZ6q9NhAc8"
   },
   "source": [
    "Извлеките из столбца `TRDATETIME` следующие признаки:\n",
    "* `mday` – день (с начала месяца);\n",
    "* `ymonth` – месяц;\n",
    "* `year` – год;\n",
    "* `wday` – день недели;\n",
    "* `is_weekend` – является ли день выходным днем.\n",
    "\n",
    "Извлеченные признаки запишите в таблицу `df_time`."
   ]
  },
  {
   "cell_type": "code",
   "execution_count": null,
   "metadata": {
    "id": "Ln00pHgAhAc8"
   },
   "outputs": [],
   "source": [
    "#############################\n",
    "### ╰( ͡° ͜ʖ ͡° )つ──────☆*:・ﾟ\n",
    "#############################\n",
    "\n",
    "# put your code here"
   ]
  },
  {
   "cell_type": "code",
   "execution_count": null,
   "metadata": {
    "id": "wqp2B888hAc8",
    "outputId": "c4e1978d-cce3-4ae8-c4b2-499481a484bc"
   },
   "outputs": [
    {
     "data": {
      "text/html": [
       "<div>\n",
       "<style scoped>\n",
       "    .dataframe tbody tr th:only-of-type {\n",
       "        vertical-align: middle;\n",
       "    }\n",
       "\n",
       "    .dataframe tbody tr th {\n",
       "        vertical-align: top;\n",
       "    }\n",
       "\n",
       "    .dataframe thead th {\n",
       "        text-align: right;\n",
       "    }\n",
       "</style>\n",
       "<table border=\"1\" class=\"dataframe\">\n",
       "  <thead>\n",
       "    <tr style=\"text-align: right;\">\n",
       "      <th></th>\n",
       "      <th>is_weekend</th>\n",
       "      <th>mday</th>\n",
       "      <th>wday</th>\n",
       "      <th>year</th>\n",
       "      <th>ymonth</th>\n",
       "    </tr>\n",
       "  </thead>\n",
       "  <tbody>\n",
       "    <tr>\n",
       "      <th>0</th>\n",
       "      <td>True</td>\n",
       "      <td>21</td>\n",
       "      <td>5</td>\n",
       "      <td>2017</td>\n",
       "      <td>10</td>\n",
       "    </tr>\n",
       "    <tr>\n",
       "      <th>1</th>\n",
       "      <td>False</td>\n",
       "      <td>12</td>\n",
       "      <td>3</td>\n",
       "      <td>2017</td>\n",
       "      <td>10</td>\n",
       "    </tr>\n",
       "    <tr>\n",
       "      <th>2</th>\n",
       "      <td>False</td>\n",
       "      <td>5</td>\n",
       "      <td>1</td>\n",
       "      <td>2017</td>\n",
       "      <td>12</td>\n",
       "    </tr>\n",
       "    <tr>\n",
       "      <th>3</th>\n",
       "      <td>True</td>\n",
       "      <td>21</td>\n",
       "      <td>5</td>\n",
       "      <td>2017</td>\n",
       "      <td>10</td>\n",
       "    </tr>\n",
       "    <tr>\n",
       "      <th>4</th>\n",
       "      <td>False</td>\n",
       "      <td>24</td>\n",
       "      <td>1</td>\n",
       "      <td>2017</td>\n",
       "      <td>10</td>\n",
       "    </tr>\n",
       "  </tbody>\n",
       "</table>\n",
       "</div>"
      ],
      "text/plain": [
       "   is_weekend  mday  wday  year  ymonth\n",
       "0        True    21     5  2017      10\n",
       "1       False    12     3  2017      10\n",
       "2       False     5     1  2017      12\n",
       "3        True    21     5  2017      10\n",
       "4       False    24     1  2017      10"
      ]
     },
     "execution_count": 17,
     "metadata": {},
     "output_type": "execute_result"
    }
   ],
   "source": [
    "df_time.head()"
   ]
  },
  {
   "cell_type": "markdown",
   "metadata": {
    "id": "lEBaBqinhAc9"
   },
   "source": [
    "__3.1__. Объедините таблицы `df` и `df_time` и сохраните результат в `df`. При объединении используйте аргумент `sort=False`, если он имеется."
   ]
  },
  {
   "cell_type": "code",
   "execution_count": null,
   "metadata": {
    "id": "lqUnHn-8hAc9"
   },
   "outputs": [],
   "source": [
    "#############################\n",
    "### ╰( ͡° ͜ʖ ͡° )つ──────☆*:・ﾟ\n",
    "#############################"
   ]
  },
  {
   "cell_type": "code",
   "execution_count": null,
   "metadata": {
    "id": "e38yXo8HhAc9",
    "outputId": "ac71314e-a73b-4693-f378-60cc71435f7e"
   },
   "outputs": [
    {
     "data": {
      "text/html": [
       "<div>\n",
       "<style scoped>\n",
       "    .dataframe tbody tr th:only-of-type {\n",
       "        vertical-align: middle;\n",
       "    }\n",
       "\n",
       "    .dataframe tbody tr th {\n",
       "        vertical-align: top;\n",
       "    }\n",
       "\n",
       "    .dataframe thead th {\n",
       "        text-align: right;\n",
       "    }\n",
       "</style>\n",
       "<table border=\"1\" class=\"dataframe\">\n",
       "  <thead>\n",
       "    <tr style=\"text-align: right;\">\n",
       "      <th></th>\n",
       "      <th>PERIOD</th>\n",
       "      <th>cl_id</th>\n",
       "      <th>MCC</th>\n",
       "      <th>channel_type</th>\n",
       "      <th>currency</th>\n",
       "      <th>TRDATETIME</th>\n",
       "      <th>amount</th>\n",
       "      <th>trx_category</th>\n",
       "      <th>target_flag</th>\n",
       "      <th>target_sum</th>\n",
       "      <th>trx_category_mul</th>\n",
       "      <th>is_weekend</th>\n",
       "      <th>mday</th>\n",
       "      <th>wday</th>\n",
       "      <th>year</th>\n",
       "      <th>ymonth</th>\n",
       "    </tr>\n",
       "  </thead>\n",
       "  <tbody>\n",
       "    <tr>\n",
       "      <th>0</th>\n",
       "      <td>01/10/2017</td>\n",
       "      <td>0</td>\n",
       "      <td>5200</td>\n",
       "      <td>type0</td>\n",
       "      <td>810</td>\n",
       "      <td>2017-10-21 00:00:00</td>\n",
       "      <td>5023.0</td>\n",
       "      <td>POS</td>\n",
       "      <td>0</td>\n",
       "      <td>0.0</td>\n",
       "      <td>-1</td>\n",
       "      <td>True</td>\n",
       "      <td>21</td>\n",
       "      <td>5</td>\n",
       "      <td>2017</td>\n",
       "      <td>10</td>\n",
       "    </tr>\n",
       "    <tr>\n",
       "      <th>1</th>\n",
       "      <td>01/10/2017</td>\n",
       "      <td>0</td>\n",
       "      <td>6011</td>\n",
       "      <td>type0</td>\n",
       "      <td>810</td>\n",
       "      <td>2017-10-12 12:24:07</td>\n",
       "      <td>20000.0</td>\n",
       "      <td>DEPOSIT</td>\n",
       "      <td>0</td>\n",
       "      <td>0.0</td>\n",
       "      <td>1</td>\n",
       "      <td>False</td>\n",
       "      <td>12</td>\n",
       "      <td>3</td>\n",
       "      <td>2017</td>\n",
       "      <td>10</td>\n",
       "    </tr>\n",
       "    <tr>\n",
       "      <th>2</th>\n",
       "      <td>01/12/2017</td>\n",
       "      <td>0</td>\n",
       "      <td>5921</td>\n",
       "      <td>type0</td>\n",
       "      <td>810</td>\n",
       "      <td>2017-12-05 00:00:00</td>\n",
       "      <td>767.0</td>\n",
       "      <td>POS</td>\n",
       "      <td>0</td>\n",
       "      <td>0.0</td>\n",
       "      <td>-1</td>\n",
       "      <td>False</td>\n",
       "      <td>5</td>\n",
       "      <td>1</td>\n",
       "      <td>2017</td>\n",
       "      <td>12</td>\n",
       "    </tr>\n",
       "    <tr>\n",
       "      <th>3</th>\n",
       "      <td>01/10/2017</td>\n",
       "      <td>0</td>\n",
       "      <td>5411</td>\n",
       "      <td>type0</td>\n",
       "      <td>810</td>\n",
       "      <td>2017-10-21 00:00:00</td>\n",
       "      <td>2031.0</td>\n",
       "      <td>POS</td>\n",
       "      <td>0</td>\n",
       "      <td>0.0</td>\n",
       "      <td>-1</td>\n",
       "      <td>True</td>\n",
       "      <td>21</td>\n",
       "      <td>5</td>\n",
       "      <td>2017</td>\n",
       "      <td>10</td>\n",
       "    </tr>\n",
       "    <tr>\n",
       "      <th>4</th>\n",
       "      <td>01/10/2017</td>\n",
       "      <td>0</td>\n",
       "      <td>6012</td>\n",
       "      <td>type0</td>\n",
       "      <td>810</td>\n",
       "      <td>2017-10-24 13:14:24</td>\n",
       "      <td>36562.0</td>\n",
       "      <td>C2C_OUT</td>\n",
       "      <td>0</td>\n",
       "      <td>0.0</td>\n",
       "      <td>-1</td>\n",
       "      <td>False</td>\n",
       "      <td>24</td>\n",
       "      <td>1</td>\n",
       "      <td>2017</td>\n",
       "      <td>10</td>\n",
       "    </tr>\n",
       "  </tbody>\n",
       "</table>\n",
       "</div>"
      ],
      "text/plain": [
       "       PERIOD  cl_id   MCC channel_type  currency          TRDATETIME  \\\n",
       "0  01/10/2017      0  5200        type0       810 2017-10-21 00:00:00   \n",
       "1  01/10/2017      0  6011        type0       810 2017-10-12 12:24:07   \n",
       "2  01/12/2017      0  5921        type0       810 2017-12-05 00:00:00   \n",
       "3  01/10/2017      0  5411        type0       810 2017-10-21 00:00:00   \n",
       "4  01/10/2017      0  6012        type0       810 2017-10-24 13:14:24   \n",
       "\n",
       "    amount trx_category  target_flag  target_sum  trx_category_mul  \\\n",
       "0   5023.0          POS            0         0.0                -1   \n",
       "1  20000.0      DEPOSIT            0         0.0                 1   \n",
       "2    767.0          POS            0         0.0                -1   \n",
       "3   2031.0          POS            0         0.0                -1   \n",
       "4  36562.0      C2C_OUT            0         0.0                -1   \n",
       "\n",
       "   is_weekend  mday  wday  year  ymonth  \n",
       "0        True    21     5  2017      10  \n",
       "1       False    12     3  2017      10  \n",
       "2       False     5     1  2017      12  \n",
       "3        True    21     5  2017      10  \n",
       "4       False    24     1  2017      10  "
      ]
     },
     "execution_count": 19,
     "metadata": {},
     "output_type": "execute_result"
    }
   ],
   "source": [
    "df.head()"
   ]
  },
  {
   "cell_type": "markdown",
   "metadata": {
    "id": "cxxQL093hAc-"
   },
   "source": [
    "--------------------------\n",
    "\n",
    "#### __4__. (1 point)\n",
    "\n",
    "__4.1__. Загрузите таблицу `mcc_codes_ru.csv` и сохраните в переменную `df_mcc`. Выведите первые 5 строчек таблицы."
   ]
  },
  {
   "cell_type": "code",
   "execution_count": null,
   "metadata": {
    "id": "DjosgMzChAc-",
    "outputId": "ecc5e9ce-8694-4b7a-8d92-eb1fc0726f7f"
   },
   "outputs": [
    {
     "data": {
      "text/html": [
       "<div>\n",
       "<style scoped>\n",
       "    .dataframe tbody tr th:only-of-type {\n",
       "        vertical-align: middle;\n",
       "    }\n",
       "\n",
       "    .dataframe tbody tr th {\n",
       "        vertical-align: top;\n",
       "    }\n",
       "\n",
       "    .dataframe thead th {\n",
       "        text-align: right;\n",
       "    }\n",
       "</style>\n",
       "<table border=\"1\" class=\"dataframe\">\n",
       "  <thead>\n",
       "    <tr style=\"text-align: right;\">\n",
       "      <th></th>\n",
       "      <th>MCC</th>\n",
       "      <th>Название</th>\n",
       "      <th>Группа</th>\n",
       "      <th>Обновлено</th>\n",
       "    </tr>\n",
       "  </thead>\n",
       "  <tbody>\n",
       "    <tr>\n",
       "      <th>0</th>\n",
       "      <td>742</td>\n",
       "      <td>Ветеринарные услуги</td>\n",
       "      <td>Контрактные услуги</td>\n",
       "      <td>31.01.18</td>\n",
       "    </tr>\n",
       "    <tr>\n",
       "      <th>1</th>\n",
       "      <td>763</td>\n",
       "      <td>Сельскохозяйственные кооперативы</td>\n",
       "      <td>Контрактные услуги</td>\n",
       "      <td>31.01.18</td>\n",
       "    </tr>\n",
       "    <tr>\n",
       "      <th>2</th>\n",
       "      <td>780</td>\n",
       "      <td>Услуги садоводства и ландшафтного дизайна</td>\n",
       "      <td>Контрактные услуги</td>\n",
       "      <td>31.01.18</td>\n",
       "    </tr>\n",
       "    <tr>\n",
       "      <th>3</th>\n",
       "      <td>1520</td>\n",
       "      <td>Генеральные подрядчики – жилое и коммерческое ...</td>\n",
       "      <td>Контрактные услуги</td>\n",
       "      <td>31.01.18</td>\n",
       "    </tr>\n",
       "    <tr>\n",
       "      <th>4</th>\n",
       "      <td>1711</td>\n",
       "      <td>Генеральные подрядчики по вентиляции, теплосна...</td>\n",
       "      <td>Контрактные услуги</td>\n",
       "      <td>31.01.18</td>\n",
       "    </tr>\n",
       "  </tbody>\n",
       "</table>\n",
       "</div>"
      ],
      "text/plain": [
       "    MCC                                           Название  \\\n",
       "0   742                                Ветеринарные услуги   \n",
       "1   763                   Сельскохозяйственные кооперативы   \n",
       "2   780          Услуги садоводства и ландшафтного дизайна   \n",
       "3  1520  Генеральные подрядчики – жилое и коммерческое ...   \n",
       "4  1711  Генеральные подрядчики по вентиляции, теплосна...   \n",
       "\n",
       "               Группа Обновлено  \n",
       "0  Контрактные услуги  31.01.18  \n",
       "1  Контрактные услуги  31.01.18  \n",
       "2  Контрактные услуги  31.01.18  \n",
       "3  Контрактные услуги  31.01.18  \n",
       "4  Контрактные услуги  31.01.18  "
      ]
     },
     "execution_count": 20,
     "metadata": {},
     "output_type": "execute_result"
    }
   ],
   "source": [
    "#############################\n",
    "### ╰( ͡° ͜ʖ ͡° )つ──────☆*:・ﾟ\n",
    "#############################\n",
    "\n",
    "# put your code here"
   ]
  },
  {
   "cell_type": "markdown",
   "metadata": {
    "id": "stDbBXKihAc-"
   },
   "source": [
    "__4.2__. Переименуйте столбцы в `df_mcc` следующим образом:\n",
    "* `MCC` -> `MCC`;\n",
    "* `Название` -> `mcc_name`;\n",
    "* `Группа` -> `mcc_group`;\n",
    "* `Обновлено` -> `updated`.\n",
    "\n",
    "Результат сохраните в `df_mcc`."
   ]
  },
  {
   "cell_type": "code",
   "execution_count": null,
   "metadata": {
    "id": "q2YbDJtEhAc-"
   },
   "outputs": [],
   "source": [
    "#############################\n",
    "### ╰( ͡° ͜ʖ ͡° )つ──────☆*:・ﾟ\n",
    "#############################\n",
    "\n",
    "# put your code here"
   ]
  },
  {
   "cell_type": "code",
   "execution_count": null,
   "metadata": {
    "id": "PiZ0yxkshAc-",
    "outputId": "2cef8b88-6f60-479e-bc30-84d61fb8bfb1"
   },
   "outputs": [
    {
     "data": {
      "text/html": [
       "<div>\n",
       "<style scoped>\n",
       "    .dataframe tbody tr th:only-of-type {\n",
       "        vertical-align: middle;\n",
       "    }\n",
       "\n",
       "    .dataframe tbody tr th {\n",
       "        vertical-align: top;\n",
       "    }\n",
       "\n",
       "    .dataframe thead th {\n",
       "        text-align: right;\n",
       "    }\n",
       "</style>\n",
       "<table border=\"1\" class=\"dataframe\">\n",
       "  <thead>\n",
       "    <tr style=\"text-align: right;\">\n",
       "      <th></th>\n",
       "      <th>MCC</th>\n",
       "      <th>mcc_name</th>\n",
       "      <th>mcc_group</th>\n",
       "      <th>updated</th>\n",
       "    </tr>\n",
       "  </thead>\n",
       "  <tbody>\n",
       "    <tr>\n",
       "      <th>0</th>\n",
       "      <td>742</td>\n",
       "      <td>Ветеринарные услуги</td>\n",
       "      <td>Контрактные услуги</td>\n",
       "      <td>31.01.18</td>\n",
       "    </tr>\n",
       "    <tr>\n",
       "      <th>1</th>\n",
       "      <td>763</td>\n",
       "      <td>Сельскохозяйственные кооперативы</td>\n",
       "      <td>Контрактные услуги</td>\n",
       "      <td>31.01.18</td>\n",
       "    </tr>\n",
       "    <tr>\n",
       "      <th>2</th>\n",
       "      <td>780</td>\n",
       "      <td>Услуги садоводства и ландшафтного дизайна</td>\n",
       "      <td>Контрактные услуги</td>\n",
       "      <td>31.01.18</td>\n",
       "    </tr>\n",
       "    <tr>\n",
       "      <th>3</th>\n",
       "      <td>1520</td>\n",
       "      <td>Генеральные подрядчики – жилое и коммерческое ...</td>\n",
       "      <td>Контрактные услуги</td>\n",
       "      <td>31.01.18</td>\n",
       "    </tr>\n",
       "    <tr>\n",
       "      <th>4</th>\n",
       "      <td>1711</td>\n",
       "      <td>Генеральные подрядчики по вентиляции, теплосна...</td>\n",
       "      <td>Контрактные услуги</td>\n",
       "      <td>31.01.18</td>\n",
       "    </tr>\n",
       "  </tbody>\n",
       "</table>\n",
       "</div>"
      ],
      "text/plain": [
       "    MCC                                           mcc_name  \\\n",
       "0   742                                Ветеринарные услуги   \n",
       "1   763                   Сельскохозяйственные кооперативы   \n",
       "2   780          Услуги садоводства и ландшафтного дизайна   \n",
       "3  1520  Генеральные подрядчики – жилое и коммерческое ...   \n",
       "4  1711  Генеральные подрядчики по вентиляции, теплосна...   \n",
       "\n",
       "            mcc_group   updated  \n",
       "0  Контрактные услуги  31.01.18  \n",
       "1  Контрактные услуги  31.01.18  \n",
       "2  Контрактные услуги  31.01.18  \n",
       "3  Контрактные услуги  31.01.18  \n",
       "4  Контрактные услуги  31.01.18  "
      ]
     },
     "execution_count": 22,
     "metadata": {},
     "output_type": "execute_result"
    }
   ],
   "source": [
    "df_mcc.head()"
   ]
  },
  {
   "cell_type": "markdown",
   "metadata": {
    "id": "S2U91O6fhAc-"
   },
   "source": [
    "__4.3__. Удалите столбец `updated` из `df_mcc`, результат сохраните в `df_mcc`."
   ]
  },
  {
   "cell_type": "code",
   "execution_count": null,
   "metadata": {
    "id": "0nka6rmDhAc-"
   },
   "outputs": [],
   "source": [
    "#############################\n",
    "### ╰( ͡° ͜ʖ ͡° )つ──────☆*:・ﾟ\n",
    "#############################\n",
    "\n",
    "# put your code here"
   ]
  },
  {
   "cell_type": "code",
   "execution_count": null,
   "metadata": {
    "id": "f3VppbyWhAc-",
    "outputId": "da10c491-70d3-45f1-8eb1-58d2935ebde1"
   },
   "outputs": [
    {
     "data": {
      "text/html": [
       "<div>\n",
       "<style scoped>\n",
       "    .dataframe tbody tr th:only-of-type {\n",
       "        vertical-align: middle;\n",
       "    }\n",
       "\n",
       "    .dataframe tbody tr th {\n",
       "        vertical-align: top;\n",
       "    }\n",
       "\n",
       "    .dataframe thead th {\n",
       "        text-align: right;\n",
       "    }\n",
       "</style>\n",
       "<table border=\"1\" class=\"dataframe\">\n",
       "  <thead>\n",
       "    <tr style=\"text-align: right;\">\n",
       "      <th></th>\n",
       "      <th>MCC</th>\n",
       "      <th>mcc_name</th>\n",
       "      <th>mcc_group</th>\n",
       "    </tr>\n",
       "  </thead>\n",
       "  <tbody>\n",
       "    <tr>\n",
       "      <th>0</th>\n",
       "      <td>742</td>\n",
       "      <td>Ветеринарные услуги</td>\n",
       "      <td>Контрактные услуги</td>\n",
       "    </tr>\n",
       "    <tr>\n",
       "      <th>1</th>\n",
       "      <td>763</td>\n",
       "      <td>Сельскохозяйственные кооперативы</td>\n",
       "      <td>Контрактные услуги</td>\n",
       "    </tr>\n",
       "    <tr>\n",
       "      <th>2</th>\n",
       "      <td>780</td>\n",
       "      <td>Услуги садоводства и ландшафтного дизайна</td>\n",
       "      <td>Контрактные услуги</td>\n",
       "    </tr>\n",
       "    <tr>\n",
       "      <th>3</th>\n",
       "      <td>1520</td>\n",
       "      <td>Генеральные подрядчики – жилое и коммерческое ...</td>\n",
       "      <td>Контрактные услуги</td>\n",
       "    </tr>\n",
       "    <tr>\n",
       "      <th>4</th>\n",
       "      <td>1711</td>\n",
       "      <td>Генеральные подрядчики по вентиляции, теплосна...</td>\n",
       "      <td>Контрактные услуги</td>\n",
       "    </tr>\n",
       "  </tbody>\n",
       "</table>\n",
       "</div>"
      ],
      "text/plain": [
       "    MCC                                           mcc_name           mcc_group\n",
       "0   742                                Ветеринарные услуги  Контрактные услуги\n",
       "1   763                   Сельскохозяйственные кооперативы  Контрактные услуги\n",
       "2   780          Услуги садоводства и ландшафтного дизайна  Контрактные услуги\n",
       "3  1520  Генеральные подрядчики – жилое и коммерческое ...  Контрактные услуги\n",
       "4  1711  Генеральные подрядчики по вентиляции, теплосна...  Контрактные услуги"
      ]
     },
     "execution_count": 24,
     "metadata": {},
     "output_type": "execute_result"
    }
   ],
   "source": [
    "df_mcc.head()"
   ]
  },
  {
   "cell_type": "markdown",
   "metadata": {
    "id": "n_qSMz2bhAc-"
   },
   "source": [
    "__4.4__. Закодируйте столбец `mcc_group` с помощью label-кодирования."
   ]
  },
  {
   "cell_type": "code",
   "execution_count": null,
   "metadata": {
    "id": "Z2by-dzfhAc_"
   },
   "outputs": [],
   "source": [
    "#############################\n",
    "### ╰( ͡° ͜ʖ ͡° )つ──────☆*:・ﾟ\n",
    "#############################"
   ]
  },
  {
   "cell_type": "code",
   "execution_count": null,
   "metadata": {
    "id": "_aTsEOrLhAc_",
    "outputId": "0de9a37e-3b60-44cc-9434-3d7a4dfed259"
   },
   "outputs": [
    {
     "data": {
      "text/html": [
       "<div>\n",
       "<style scoped>\n",
       "    .dataframe tbody tr th:only-of-type {\n",
       "        vertical-align: middle;\n",
       "    }\n",
       "\n",
       "    .dataframe tbody tr th {\n",
       "        vertical-align: top;\n",
       "    }\n",
       "\n",
       "    .dataframe thead th {\n",
       "        text-align: right;\n",
       "    }\n",
       "</style>\n",
       "<table border=\"1\" class=\"dataframe\">\n",
       "  <thead>\n",
       "    <tr style=\"text-align: right;\">\n",
       "      <th></th>\n",
       "      <th>MCC</th>\n",
       "      <th>mcc_name</th>\n",
       "      <th>mcc_group</th>\n",
       "    </tr>\n",
       "  </thead>\n",
       "  <tbody>\n",
       "    <tr>\n",
       "      <th>0</th>\n",
       "      <td>742</td>\n",
       "      <td>Ветеринарные услуги</td>\n",
       "      <td>6</td>\n",
       "    </tr>\n",
       "    <tr>\n",
       "      <th>1</th>\n",
       "      <td>763</td>\n",
       "      <td>Сельскохозяйственные кооперативы</td>\n",
       "      <td>6</td>\n",
       "    </tr>\n",
       "    <tr>\n",
       "      <th>2</th>\n",
       "      <td>780</td>\n",
       "      <td>Услуги садоводства и ландшафтного дизайна</td>\n",
       "      <td>6</td>\n",
       "    </tr>\n",
       "    <tr>\n",
       "      <th>3</th>\n",
       "      <td>1520</td>\n",
       "      <td>Генеральные подрядчики – жилое и коммерческое ...</td>\n",
       "      <td>6</td>\n",
       "    </tr>\n",
       "    <tr>\n",
       "      <th>4</th>\n",
       "      <td>1711</td>\n",
       "      <td>Генеральные подрядчики по вентиляции, теплосна...</td>\n",
       "      <td>6</td>\n",
       "    </tr>\n",
       "  </tbody>\n",
       "</table>\n",
       "</div>"
      ],
      "text/plain": [
       "    MCC                                           mcc_name  mcc_group\n",
       "0   742                                Ветеринарные услуги          6\n",
       "1   763                   Сельскохозяйственные кооперативы          6\n",
       "2   780          Услуги садоводства и ландшафтного дизайна          6\n",
       "3  1520  Генеральные подрядчики – жилое и коммерческое ...          6\n",
       "4  1711  Генеральные подрядчики по вентиляции, теплосна...          6"
      ]
     },
     "execution_count": 26,
     "metadata": {},
     "output_type": "execute_result"
    }
   ],
   "source": [
    "df_mcc.head()"
   ]
  },
  {
   "cell_type": "markdown",
   "metadata": {
    "id": "Kr6sJGc9hAc_"
   },
   "source": [
    "--------------------------------------\n",
    "#### __5__. (2 points)\n",
    "\n",
    "__5.1__. Присоедините к таблице `df` столбец `mcc_group`. Результат сохраните в `df`.\n",
    "\n",
    "**Какой тип JOIN-а подойдет лучше всего для этой задачи?**\n",
    "\n",
    "$\\textcolor{red}{Ваш \\ ответ:}$"
   ]
  },
  {
   "cell_type": "code",
   "execution_count": null,
   "metadata": {
    "id": "xg22pr-hhAc_"
   },
   "outputs": [],
   "source": [
    "#############################\n",
    "### ╰( ͡° ͜ʖ ͡° )つ──────☆*:・ﾟ\n",
    "#############################\n",
    "\n",
    "df = # put your code here"
   ]
  },
  {
   "cell_type": "code",
   "execution_count": null,
   "metadata": {
    "id": "DU0zZwAbhAdA",
    "outputId": "393b8f9f-388a-49f4-8f9b-fc31f4d5cf85"
   },
   "outputs": [
    {
     "data": {
      "text/html": [
       "<div>\n",
       "<style scoped>\n",
       "    .dataframe tbody tr th:only-of-type {\n",
       "        vertical-align: middle;\n",
       "    }\n",
       "\n",
       "    .dataframe tbody tr th {\n",
       "        vertical-align: top;\n",
       "    }\n",
       "\n",
       "    .dataframe thead th {\n",
       "        text-align: right;\n",
       "    }\n",
       "</style>\n",
       "<table border=\"1\" class=\"dataframe\">\n",
       "  <thead>\n",
       "    <tr style=\"text-align: right;\">\n",
       "      <th></th>\n",
       "      <th>PERIOD</th>\n",
       "      <th>cl_id</th>\n",
       "      <th>MCC</th>\n",
       "      <th>channel_type</th>\n",
       "      <th>currency</th>\n",
       "      <th>TRDATETIME</th>\n",
       "      <th>amount</th>\n",
       "      <th>trx_category</th>\n",
       "      <th>target_flag</th>\n",
       "      <th>target_sum</th>\n",
       "      <th>trx_category_mul</th>\n",
       "      <th>is_weekend</th>\n",
       "      <th>mday</th>\n",
       "      <th>wday</th>\n",
       "      <th>year</th>\n",
       "      <th>ymonth</th>\n",
       "      <th>mcc_group</th>\n",
       "    </tr>\n",
       "  </thead>\n",
       "  <tbody>\n",
       "    <tr>\n",
       "      <th>51305</th>\n",
       "      <td>01/06/2017</td>\n",
       "      <td>913</td>\n",
       "      <td>7230</td>\n",
       "      <td>type2</td>\n",
       "      <td>810</td>\n",
       "      <td>2017-06-14</td>\n",
       "      <td>2100.0</td>\n",
       "      <td>POS</td>\n",
       "      <td>1</td>\n",
       "      <td>449004.29</td>\n",
       "      <td>-1</td>\n",
       "      <td>False</td>\n",
       "      <td>14</td>\n",
       "      <td>2</td>\n",
       "      <td>2017</td>\n",
       "      <td>6</td>\n",
       "      <td>7.0</td>\n",
       "    </tr>\n",
       "    <tr>\n",
       "      <th>226863</th>\n",
       "      <td>01/07/2017</td>\n",
       "      <td>4183</td>\n",
       "      <td>5499</td>\n",
       "      <td>type1</td>\n",
       "      <td>810</td>\n",
       "      <td>2017-07-20</td>\n",
       "      <td>140.0</td>\n",
       "      <td>POS</td>\n",
       "      <td>1</td>\n",
       "      <td>132726.55</td>\n",
       "      <td>-1</td>\n",
       "      <td>False</td>\n",
       "      <td>20</td>\n",
       "      <td>3</td>\n",
       "      <td>2017</td>\n",
       "      <td>7</td>\n",
       "      <td>17.0</td>\n",
       "    </tr>\n",
       "    <tr>\n",
       "      <th>124479</th>\n",
       "      <td>01/11/2017</td>\n",
       "      <td>2253</td>\n",
       "      <td>5735</td>\n",
       "      <td>type2</td>\n",
       "      <td>810</td>\n",
       "      <td>2017-11-28</td>\n",
       "      <td>397.0</td>\n",
       "      <td>POS</td>\n",
       "      <td>1</td>\n",
       "      <td>59.00</td>\n",
       "      <td>-1</td>\n",
       "      <td>False</td>\n",
       "      <td>28</td>\n",
       "      <td>1</td>\n",
       "      <td>2017</td>\n",
       "      <td>11</td>\n",
       "      <td>15.0</td>\n",
       "    </tr>\n",
       "    <tr>\n",
       "      <th>11132</th>\n",
       "      <td>01/08/2017</td>\n",
       "      <td>225</td>\n",
       "      <td>5411</td>\n",
       "      <td>type4</td>\n",
       "      <td>810</td>\n",
       "      <td>2017-08-07</td>\n",
       "      <td>44.9</td>\n",
       "      <td>POS</td>\n",
       "      <td>1</td>\n",
       "      <td>466235.45</td>\n",
       "      <td>-1</td>\n",
       "      <td>False</td>\n",
       "      <td>7</td>\n",
       "      <td>0</td>\n",
       "      <td>2017</td>\n",
       "      <td>8</td>\n",
       "      <td>17.0</td>\n",
       "    </tr>\n",
       "    <tr>\n",
       "      <th>473017</th>\n",
       "      <td>01/03/2017</td>\n",
       "      <td>9869</td>\n",
       "      <td>5812</td>\n",
       "      <td>type1</td>\n",
       "      <td>810</td>\n",
       "      <td>2017-03-30</td>\n",
       "      <td>350.0</td>\n",
       "      <td>POS</td>\n",
       "      <td>0</td>\n",
       "      <td>0.00</td>\n",
       "      <td>-1</td>\n",
       "      <td>False</td>\n",
       "      <td>30</td>\n",
       "      <td>3</td>\n",
       "      <td>2017</td>\n",
       "      <td>3</td>\n",
       "      <td>15.0</td>\n",
       "    </tr>\n",
       "  </tbody>\n",
       "</table>\n",
       "</div>"
      ],
      "text/plain": [
       "            PERIOD  cl_id   MCC channel_type  currency TRDATETIME  amount  \\\n",
       "51305   01/06/2017    913  7230        type2       810 2017-06-14  2100.0   \n",
       "226863  01/07/2017   4183  5499        type1       810 2017-07-20   140.0   \n",
       "124479  01/11/2017   2253  5735        type2       810 2017-11-28   397.0   \n",
       "11132   01/08/2017    225  5411        type4       810 2017-08-07    44.9   \n",
       "473017  01/03/2017   9869  5812        type1       810 2017-03-30   350.0   \n",
       "\n",
       "       trx_category  target_flag  target_sum  trx_category_mul  is_weekend  \\\n",
       "51305           POS            1   449004.29                -1       False   \n",
       "226863          POS            1   132726.55                -1       False   \n",
       "124479          POS            1       59.00                -1       False   \n",
       "11132           POS            1   466235.45                -1       False   \n",
       "473017          POS            0        0.00                -1       False   \n",
       "\n",
       "        mday  wday  year  ymonth  mcc_group  \n",
       "51305     14     2  2017       6        7.0  \n",
       "226863    20     3  2017       7       17.0  \n",
       "124479    28     1  2017      11       15.0  \n",
       "11132      7     0  2017       8       17.0  \n",
       "473017    30     3  2017       3       15.0  "
      ]
     },
     "execution_count": 28,
     "metadata": {},
     "output_type": "execute_result"
    }
   ],
   "source": [
    "df.iloc[index].head()"
   ]
  },
  {
   "cell_type": "markdown",
   "metadata": {
    "id": "-oBqOLuDhAdB"
   },
   "source": [
    "----------------------------------------\n",
    "\n",
    "#### __6__. (2 points) \n",
    "Выведите сумму, среднее и среднеквадратичное отклонение трат `amount` по каждой из категорий `trx_category` в рамках канала привлечения `channel_type`."
   ]
  },
  {
   "cell_type": "code",
   "execution_count": null,
   "metadata": {
    "id": "30e1Tdw9hAdB"
   },
   "outputs": [],
   "source": [
    "#############################\n",
    "### ╰( ͡° ͜ʖ ͡° )つ──────☆*:・ﾟ\n",
    "#############################"
   ]
  },
  {
   "cell_type": "markdown",
   "metadata": {
    "id": "hHWpADcmhAdB"
   },
   "source": [
    "---------------------------------\n",
    "\n",
    "#### __7__. (2 points) \n",
    "\n",
    "Выведите топ-5 клиентов, с наибольшим оборотом по `С2С` транзакциям. Под оборотом подразумевается полный объем полученных и переведенных средств без учета знака (т.е. не имеет значения получал ли клиент средства на свой счет, или переводил их на другой счет)."
   ]
  },
  {
   "cell_type": "code",
   "execution_count": null,
   "metadata": {
    "id": "lpTN_XjQhAdB"
   },
   "outputs": [],
   "source": [
    "#############################\n",
    "### ╰( ͡° ͜ʖ ͡° )つ──────☆*:・ﾟ\n",
    "#############################"
   ]
  },
  {
   "cell_type": "markdown",
   "metadata": {
    "id": "-qVo6sfihAdB"
   },
   "source": [
    "-------------------------------------------\n",
    "\n",
    "#### __8__. (2 points) \n",
    "\n",
    "__8.1.__ Прологарифмируйте сумму трат `amount`, а результат сохраните в столбец `amount_log`. Как нужно логарифмировать, чтобы не было проблем при `amount == 0`?"
   ]
  },
  {
   "cell_type": "code",
   "execution_count": null,
   "metadata": {
    "id": "KfsiMZk1hAdC"
   },
   "outputs": [],
   "source": [
    "#############################\n",
    "### ╰( ͡° ͜ʖ ͡° )つ──────☆*:・ﾟ\n",
    "#############################"
   ]
  },
  {
   "cell_type": "markdown",
   "metadata": {
    "id": "h4nEe-TyhAdC"
   },
   "source": [
    "__8.2__. Выполните onehot-кодирование для столбцов `channel_type` и `trx_category`. Полученные столбцы присоедините к таблице `df`, результат сохраните в переменную `df`.  "
   ]
  },
  {
   "cell_type": "code",
   "execution_count": null,
   "metadata": {
    "id": "D1K45jsZhAdC"
   },
   "outputs": [],
   "source": [
    "#############################\n",
    "### ╰( ͡° ͜ʖ ͡° )つ──────☆*:・ﾟ\n",
    "#############################\n",
    "\n",
    "# put your code here"
   ]
  },
  {
   "cell_type": "code",
   "execution_count": null,
   "metadata": {
    "id": "JXd432inhAdC",
    "outputId": "c693efac-490e-4bb3-e3dd-85f41b8c77f6"
   },
   "outputs": [
    {
     "data": {
      "text/html": [
       "<div>\n",
       "<style scoped>\n",
       "    .dataframe tbody tr th:only-of-type {\n",
       "        vertical-align: middle;\n",
       "    }\n",
       "\n",
       "    .dataframe tbody tr th {\n",
       "        vertical-align: top;\n",
       "    }\n",
       "\n",
       "    .dataframe thead th {\n",
       "        text-align: right;\n",
       "    }\n",
       "</style>\n",
       "<table border=\"1\" class=\"dataframe\">\n",
       "  <thead>\n",
       "    <tr style=\"text-align: right;\">\n",
       "      <th></th>\n",
       "      <th>PERIOD</th>\n",
       "      <th>cl_id</th>\n",
       "      <th>MCC</th>\n",
       "      <th>channel_type</th>\n",
       "      <th>currency</th>\n",
       "      <th>TRDATETIME</th>\n",
       "      <th>amount</th>\n",
       "      <th>trx_category</th>\n",
       "      <th>target_flag</th>\n",
       "      <th>target_sum</th>\n",
       "      <th>trx_category_mul</th>\n",
       "      <th>is_weekend</th>\n",
       "      <th>mday</th>\n",
       "      <th>wday</th>\n",
       "      <th>year</th>\n",
       "      <th>ymonth</th>\n",
       "      <th>mcc_group</th>\n",
       "      <th>amount_log</th>\n",
       "      <th>channel_type_type0</th>\n",
       "      <th>channel_type_type1</th>\n",
       "      <th>channel_type_type2</th>\n",
       "      <th>channel_type_type3</th>\n",
       "      <th>channel_type_type4</th>\n",
       "      <th>channel_type_type5</th>\n",
       "      <th>trx_category_BACK_TRX</th>\n",
       "      <th>trx_category_C2C_IN</th>\n",
       "      <th>trx_category_C2C_OUT</th>\n",
       "      <th>trx_category_CASH_ADV</th>\n",
       "      <th>trx_category_CAT</th>\n",
       "      <th>trx_category_DEPOSIT</th>\n",
       "      <th>trx_category_POS</th>\n",
       "      <th>trx_category_WD_ATM_OTHER</th>\n",
       "      <th>trx_category_WD_ATM_PARTNER</th>\n",
       "      <th>trx_category_WD_ATM_ROS</th>\n",
       "    </tr>\n",
       "  </thead>\n",
       "  <tbody>\n",
       "    <tr>\n",
       "      <th>51305</th>\n",
       "      <td>01/06/2017</td>\n",
       "      <td>913</td>\n",
       "      <td>7230</td>\n",
       "      <td>type2</td>\n",
       "      <td>810</td>\n",
       "      <td>2017-06-14</td>\n",
       "      <td>2100.0</td>\n",
       "      <td>POS</td>\n",
       "      <td>1</td>\n",
       "      <td>449004.29</td>\n",
       "      <td>-1</td>\n",
       "      <td>False</td>\n",
       "      <td>14</td>\n",
       "      <td>2</td>\n",
       "      <td>2017</td>\n",
       "      <td>6</td>\n",
       "      <td>7.0</td>\n",
       "      <td>7.650</td>\n",
       "      <td>0</td>\n",
       "      <td>0</td>\n",
       "      <td>1</td>\n",
       "      <td>0</td>\n",
       "      <td>0</td>\n",
       "      <td>0</td>\n",
       "      <td>0</td>\n",
       "      <td>0</td>\n",
       "      <td>0</td>\n",
       "      <td>0</td>\n",
       "      <td>0</td>\n",
       "      <td>0</td>\n",
       "      <td>1</td>\n",
       "      <td>0</td>\n",
       "      <td>0</td>\n",
       "      <td>0</td>\n",
       "    </tr>\n",
       "    <tr>\n",
       "      <th>226863</th>\n",
       "      <td>01/07/2017</td>\n",
       "      <td>4183</td>\n",
       "      <td>5499</td>\n",
       "      <td>type1</td>\n",
       "      <td>810</td>\n",
       "      <td>2017-07-20</td>\n",
       "      <td>140.0</td>\n",
       "      <td>POS</td>\n",
       "      <td>1</td>\n",
       "      <td>132726.55</td>\n",
       "      <td>-1</td>\n",
       "      <td>False</td>\n",
       "      <td>20</td>\n",
       "      <td>3</td>\n",
       "      <td>2017</td>\n",
       "      <td>7</td>\n",
       "      <td>17.0</td>\n",
       "      <td>4.949</td>\n",
       "      <td>0</td>\n",
       "      <td>1</td>\n",
       "      <td>0</td>\n",
       "      <td>0</td>\n",
       "      <td>0</td>\n",
       "      <td>0</td>\n",
       "      <td>0</td>\n",
       "      <td>0</td>\n",
       "      <td>0</td>\n",
       "      <td>0</td>\n",
       "      <td>0</td>\n",
       "      <td>0</td>\n",
       "      <td>1</td>\n",
       "      <td>0</td>\n",
       "      <td>0</td>\n",
       "      <td>0</td>\n",
       "    </tr>\n",
       "    <tr>\n",
       "      <th>124479</th>\n",
       "      <td>01/11/2017</td>\n",
       "      <td>2253</td>\n",
       "      <td>5735</td>\n",
       "      <td>type2</td>\n",
       "      <td>810</td>\n",
       "      <td>2017-11-28</td>\n",
       "      <td>397.0</td>\n",
       "      <td>POS</td>\n",
       "      <td>1</td>\n",
       "      <td>59.00</td>\n",
       "      <td>-1</td>\n",
       "      <td>False</td>\n",
       "      <td>28</td>\n",
       "      <td>1</td>\n",
       "      <td>2017</td>\n",
       "      <td>11</td>\n",
       "      <td>15.0</td>\n",
       "      <td>5.986</td>\n",
       "      <td>0</td>\n",
       "      <td>0</td>\n",
       "      <td>1</td>\n",
       "      <td>0</td>\n",
       "      <td>0</td>\n",
       "      <td>0</td>\n",
       "      <td>0</td>\n",
       "      <td>0</td>\n",
       "      <td>0</td>\n",
       "      <td>0</td>\n",
       "      <td>0</td>\n",
       "      <td>0</td>\n",
       "      <td>1</td>\n",
       "      <td>0</td>\n",
       "      <td>0</td>\n",
       "      <td>0</td>\n",
       "    </tr>\n",
       "    <tr>\n",
       "      <th>11132</th>\n",
       "      <td>01/08/2017</td>\n",
       "      <td>225</td>\n",
       "      <td>5411</td>\n",
       "      <td>type4</td>\n",
       "      <td>810</td>\n",
       "      <td>2017-08-07</td>\n",
       "      <td>44.9</td>\n",
       "      <td>POS</td>\n",
       "      <td>1</td>\n",
       "      <td>466235.45</td>\n",
       "      <td>-1</td>\n",
       "      <td>False</td>\n",
       "      <td>7</td>\n",
       "      <td>0</td>\n",
       "      <td>2017</td>\n",
       "      <td>8</td>\n",
       "      <td>17.0</td>\n",
       "      <td>3.826</td>\n",
       "      <td>0</td>\n",
       "      <td>0</td>\n",
       "      <td>0</td>\n",
       "      <td>0</td>\n",
       "      <td>1</td>\n",
       "      <td>0</td>\n",
       "      <td>0</td>\n",
       "      <td>0</td>\n",
       "      <td>0</td>\n",
       "      <td>0</td>\n",
       "      <td>0</td>\n",
       "      <td>0</td>\n",
       "      <td>1</td>\n",
       "      <td>0</td>\n",
       "      <td>0</td>\n",
       "      <td>0</td>\n",
       "    </tr>\n",
       "    <tr>\n",
       "      <th>473017</th>\n",
       "      <td>01/03/2017</td>\n",
       "      <td>9869</td>\n",
       "      <td>5812</td>\n",
       "      <td>type1</td>\n",
       "      <td>810</td>\n",
       "      <td>2017-03-30</td>\n",
       "      <td>350.0</td>\n",
       "      <td>POS</td>\n",
       "      <td>0</td>\n",
       "      <td>0.00</td>\n",
       "      <td>-1</td>\n",
       "      <td>False</td>\n",
       "      <td>30</td>\n",
       "      <td>3</td>\n",
       "      <td>2017</td>\n",
       "      <td>3</td>\n",
       "      <td>15.0</td>\n",
       "      <td>5.861</td>\n",
       "      <td>0</td>\n",
       "      <td>1</td>\n",
       "      <td>0</td>\n",
       "      <td>0</td>\n",
       "      <td>0</td>\n",
       "      <td>0</td>\n",
       "      <td>0</td>\n",
       "      <td>0</td>\n",
       "      <td>0</td>\n",
       "      <td>0</td>\n",
       "      <td>0</td>\n",
       "      <td>0</td>\n",
       "      <td>1</td>\n",
       "      <td>0</td>\n",
       "      <td>0</td>\n",
       "      <td>0</td>\n",
       "    </tr>\n",
       "  </tbody>\n",
       "</table>\n",
       "</div>"
      ],
      "text/plain": [
       "            PERIOD  cl_id   MCC channel_type  currency TRDATETIME  amount  \\\n",
       "51305   01/06/2017    913  7230        type2       810 2017-06-14  2100.0   \n",
       "226863  01/07/2017   4183  5499        type1       810 2017-07-20   140.0   \n",
       "124479  01/11/2017   2253  5735        type2       810 2017-11-28   397.0   \n",
       "11132   01/08/2017    225  5411        type4       810 2017-08-07    44.9   \n",
       "473017  01/03/2017   9869  5812        type1       810 2017-03-30   350.0   \n",
       "\n",
       "       trx_category  target_flag  target_sum  trx_category_mul  is_weekend  \\\n",
       "51305           POS            1   449004.29                -1       False   \n",
       "226863          POS            1   132726.55                -1       False   \n",
       "124479          POS            1       59.00                -1       False   \n",
       "11132           POS            1   466235.45                -1       False   \n",
       "473017          POS            0        0.00                -1       False   \n",
       "\n",
       "        mday  wday  year  ymonth  mcc_group  amount_log  channel_type_type0  \\\n",
       "51305     14     2  2017       6        7.0       7.650                   0   \n",
       "226863    20     3  2017       7       17.0       4.949                   0   \n",
       "124479    28     1  2017      11       15.0       5.986                   0   \n",
       "11132      7     0  2017       8       17.0       3.826                   0   \n",
       "473017    30     3  2017       3       15.0       5.861                   0   \n",
       "\n",
       "        channel_type_type1  channel_type_type2  channel_type_type3  \\\n",
       "51305                    0                   1                   0   \n",
       "226863                   1                   0                   0   \n",
       "124479                   0                   1                   0   \n",
       "11132                    0                   0                   0   \n",
       "473017                   1                   0                   0   \n",
       "\n",
       "        channel_type_type4  channel_type_type5  trx_category_BACK_TRX  \\\n",
       "51305                    0                   0                      0   \n",
       "226863                   0                   0                      0   \n",
       "124479                   0                   0                      0   \n",
       "11132                    1                   0                      0   \n",
       "473017                   0                   0                      0   \n",
       "\n",
       "        trx_category_C2C_IN  trx_category_C2C_OUT  trx_category_CASH_ADV  \\\n",
       "51305                     0                     0                      0   \n",
       "226863                    0                     0                      0   \n",
       "124479                    0                     0                      0   \n",
       "11132                     0                     0                      0   \n",
       "473017                    0                     0                      0   \n",
       "\n",
       "        trx_category_CAT  trx_category_DEPOSIT  trx_category_POS  \\\n",
       "51305                  0                     0                 1   \n",
       "226863                 0                     0                 1   \n",
       "124479                 0                     0                 1   \n",
       "11132                  0                     0                 1   \n",
       "473017                 0                     0                 1   \n",
       "\n",
       "        trx_category_WD_ATM_OTHER  trx_category_WD_ATM_PARTNER  \\\n",
       "51305                           0                            0   \n",
       "226863                          0                            0   \n",
       "124479                          0                            0   \n",
       "11132                           0                            0   \n",
       "473017                          0                            0   \n",
       "\n",
       "        trx_category_WD_ATM_ROS  \n",
       "51305                         0  \n",
       "226863                        0  \n",
       "124479                        0  \n",
       "11132                         0  \n",
       "473017                        0  "
      ]
     },
     "execution_count": 33,
     "metadata": {},
     "output_type": "execute_result"
    }
   ],
   "source": [
    "df.iloc[index].head()"
   ]
  },
  {
   "cell_type": "markdown",
   "metadata": {
    "id": "p8YIBR-ihAdD"
   },
   "source": [
    "-----------------------------------------\n",
    "\n",
    "#### __9__. (2 points за правильную итоговую подтаблицу)\n",
    "\n",
    "Сохраните итоговую подтаблицу в файл."
   ]
  },
  {
   "cell_type": "code",
   "execution_count": null,
   "metadata": {
    "id": "XejBhrLBhAdD"
   },
   "outputs": [],
   "source": [
    "df.iloc[index].to_csv('answer.csv', index=False, sep=',')"
   ]
  },
  {
   "cell_type": "markdown",
   "metadata": {
    "id": "zWG8fMqChAdD"
   },
   "source": [
    "-----------------------------------------\n",
    "\n",
    "## Бонусная часть (+3 балла)\n",
    "\n",
    "Попробуйте придумать решающее правило (без использования алгоритмов машинного обучения), по которому можно было бы предсказать значение переменной `target_flag`. **Запрещается** использовать переменную `target_sum`.\n",
    "\n",
    "Разобъем выборку на тренировочную и отложенную."
   ]
  },
  {
   "cell_type": "code",
   "execution_count": null,
   "metadata": {
    "id": "c1p1_Z2khAdD"
   },
   "outputs": [],
   "source": [
    "from sklearn.model_selection import train_test_split\n",
    "\n",
    "mask = df.columns.str.startswith('target_')\n",
    "\n",
    "target_cols  = df.columns[mask]\n",
    "feature_cols = df.columns[~mask]\n",
    "\n",
    "X, y = df.loc[:, feature_cols], df.loc[:, target_cols]\n",
    "\n",
    "X_train, X_test, y_train, y_test = \\\n",
    "    train_test_split(X, y, test_size=0.3, shuffle=True, random_state=9872)"
   ]
  },
  {
   "cell_type": "markdown",
   "metadata": {
    "id": "JUe7ZZEHhAdD"
   },
   "source": [
    "Ваше решение должно побить следующий бейзлайн:\n",
    "\n",
    "```python\n",
    "from sklearn.metrics import accuracy_score\n",
    "\n",
    "assert accuracy_score(y_test['target_flag'], y_pred) > 0.7\n",
    "```\n",
    "\n",
    "**Запрещается** использовать отложенную выборку `(X_test, y_test)` для выбора решения.\n",
    "\n",
    "**Вопрос:** Что показывает метрика `accuracy`?\n",
    "\n",
    "$\\textcolor{red}{Ваш \\ ответ:}$"
   ]
  },
  {
   "cell_type": "markdown",
   "metadata": {
    "id": "x8weAt5ehAdE"
   },
   "source": [
    "### Вопросы и подсказки\n",
    "\n",
    "Исследуйте рапределения и зависимости между признаками отностительно целевой переменной `target_flag`. Для решения этой задачи вам может быть полезна визуализация.\n",
    "\n",
    "1. Какие любопытные выводы можно сделать из такого анализа?\n",
    "2. Какие проблемы возникают с визуализацией совместного распредления категориальных (дискретных) и непрерывных значений? Как эту проблему можно решить?\n",
    "3. В исходном датасете очень много записей, поэтому визуализация может работать **неприемлемо** долго. Как решить эту проблему?\n",
    "\n",
    "Приведите ниже код и комментарии с ответами на вопросы выше."
   ]
  },
  {
   "cell_type": "markdown",
   "metadata": {
    "id": "HRtTPdPPhAdE"
   },
   "source": [
    "__Ответы на вопросы:__\n",
    "\n",
    "**1.** _put your answers here_\n",
    "\n",
    "**2.**  _put your answers here_\n",
    "\n",
    "**3.** _put your answers here_"
   ]
  },
  {
   "cell_type": "code",
   "execution_count": null,
   "metadata": {
    "id": "vdaEg-F8hAdE"
   },
   "outputs": [],
   "source": [
    "# put your code here"
   ]
  },
  {
   "cell_type": "markdown",
   "metadata": {
    "id": "xF1mnEeFhAdE"
   },
   "source": [
    "### Решение"
   ]
  },
  {
   "cell_type": "code",
   "execution_count": null,
   "metadata": {
    "id": "LrEqxic2hAdF"
   },
   "outputs": [],
   "source": [
    "#############################\n",
    "### ╰( ͡° ͜ʖ ͡° )つ──────☆*:・ﾟ\n",
    "#############################"
   ]
  },
  {
   "cell_type": "code",
   "execution_count": null,
   "metadata": {
    "id": "Ml0ig9lyhAdF",
    "outputId": "606a6bcc-8f61-4d5a-9721-06975094b401"
   },
   "outputs": [
    {
     "data": {
      "text/plain": [
       "0.7309009608981067"
      ]
     },
     "execution_count": 41,
     "metadata": {},
     "output_type": "execute_result"
    }
   ],
   "source": [
    "accuracy_score(y_test['target_flag'], y_pred)"
   ]
  },
  {
   "cell_type": "code",
   "execution_count": null,
   "metadata": {
    "id": "WnO1v55yhAdF"
   },
   "outputs": [],
   "source": []
  }
 ],
 "metadata": {
  "colab": {
   "provenance": []
  },
  "kernelspec": {
   "display_name": "Python 3 (ipykernel)",
   "language": "python",
   "name": "python3"
  },
  "language_info": {
   "codemirror_mode": {
    "name": "ipython",
    "version": 3
   },
   "file_extension": ".py",
   "mimetype": "text/x-python",
   "name": "python",
   "nbconvert_exporter": "python",
   "pygments_lexer": "ipython3",
   "version": "3.10.14"
  }
 },
 "nbformat": 4,
 "nbformat_minor": 4
}
